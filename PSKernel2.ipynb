{
 "cells": [
  {
   "cell_type": "code",
   "execution_count": 1,
   "source": [
    "import numpy as np\n",
    "import math\n",
    "import random\n",
    "import matplotlib.pyplot as plt \n",
    "from matplotlib.colors import ListedColormap \n",
    "from sklearn.cross_validation import train_test_split \n",
    "from sklearn.preprocessing import StandardScaler\n",
    "from sklearn.datasets import make_moons, make_circles, make_classification \n",
    "from sklearn.svm import SVC\n"
   ],
   "outputs": [
    {
     "output_type": "stream",
     "name": "stderr",
     "text": [
      "C:\\Users\\pourbahrami\\Anaconda3\\lib\\site-packages\\sklearn\\cross_validation.py:41: DeprecationWarning: This module was deprecated in version 0.18 in favor of the model_selection module into which all the refactored classes and functions are moved. Also note that the interface of the new CV iterators are different from that of this module. This module will be removed in 0.20.\n",
      "  \"This module will be removed in 0.20.\", DeprecationWarning)\n"
     ]
    }
   ],
   "metadata": {}
  },
  {
   "cell_type": "code",
   "execution_count": 2,
   "source": [
    "import numpy as np\r\n",
    " \r\n",
    "import matplotlib.pyplot as plt\r\n",
    " \r\n",
    "from sklearn import svm, datasets\r\n",
    "# import some data to play with\r\n",
    " \r\n",
    "iris = datasets.load_iris()\r\n",
    " \r\n",
    "X = iris.data[:,:2] # we only take the first two features. We could\r\n",
    " \r\n",
    "# avoid this ugly slicing by using a two-dim dataset\r\n",
    "\r\n",
    "y = iris.target\r\n",
    "# we create an instance of SVM and fit out data. We do not scale our\r\n",
    " \r\n",
    "# data since we want to plot the support vectors\r\n",
    "X_train, X_test, y_train, y_test = train_test_split(X, y, test_size = 0.3, random_state=12345)\r\n",
    "\r\n",
    "svc = svm.SVC(kernel='linear', C=1,gamma='auto').fit(X, y)\r\n",
    "\r\n",
    " \r\n",
    "x_min, x_max = X[:, 0].min() - 1, X[:, 0].max() + 1\r\n",
    " \r\n",
    "y_min, y_max = X[:, 1].min() - 1, X[:, 1].max() + 1\r\n",
    " \r\n",
    "h = (x_max / x_min)/100\r\n",
    " \r\n",
    "xx, yy = np.meshgrid(np.arange(x_min, x_max, h),\r\n",
    " \r\n",
    "np.arange(y_min, y_max, h))\r\n",
    "plt.subplot(1, 1, 1)\r\n",
    " \r\n",
    "Z = svc.predict(np.c_[xx.ravel(), yy.ravel()])\r\n",
    " \r\n",
    "Z = Z.reshape(xx.shape)\r\n",
    " \r\n",
    "plt.contourf(xx, yy, Z, cmap=plt.cm.Paired, alpha=0.8)\r\n",
    "\r\n",
    "plt.scatter(X[:, 0], X[:, 1], c=y, cmap=plt.cm.Paired)\r\n",
    " \r\n",
    "plt.xlabel('Sepal length')\r\n",
    " \r\n",
    "plt.ylabel('Sepal width')\r\n",
    " \r\n",
    "plt.xlim(xx.min(), xx.max())\r\n",
    " \r\n",
    "plt.title('SVC with ASVMkernel')\r\n",
    " \r\n",
    "plt.show()\r\n"
   ],
   "outputs": [
    {
     "output_type": "display_data",
     "data": {
      "text/plain": [
       "<Figure size 432x288 with 1 Axes>"
      ],
      "image/png": "[encoded data removed]"
     },
     "metadata": {
      "needs_background": "light"
     }
    }
   ],
   "metadata": {}
  },
  {
   "cell_type": "code",
   "execution_count": 5,
   "source": [
    "  \r\n",
    "def PS(loc ,X, peaks=20):\r\n",
    "    d = cdist(X,X)\r\n",
    "    print(d)\r\n",
    "    locrand=np.random.randint(X[peaks,:])\r\n",
    "    loc=max(d[locrand,:]\r\n",
    "    \r\n",
    "    X=X**2\r\n",
    "    XX=X.T\r\n",
    "    nms = sum(XX) \r\n",
    "    loc=loc**2\r\n",
    "    for i in peaks:\r\n",
    "        if loc==peaks:\r\n",
    "            break\r\n",
    "        if i==peaks:\r\n",
    "            loc[i+1]=loc[1]\r\n",
    "            KPS = math.e(-(loc(i)*ones(1,n)-ones(n,1)*nms + 2*X*XX)/(loc(i+1)*ones(1,n)-ones(n,1)*nms))\r\n",
    "    return KPS  \r\n"
   ],
   "outputs": [
    {
     "output_type": "error",
     "ename": "SyntaxError",
     "evalue": "invalid syntax (<ipython-input-5-b85a53f3141f>, line 8)",
     "traceback": [
      "\u001b[1;36m  File \u001b[1;32m\"<ipython-input-5-b85a53f3141f>\"\u001b[1;36m, line \u001b[1;32m8\u001b[0m\n\u001b[1;33m    X=X**2\u001b[0m\n\u001b[1;37m    ^\u001b[0m\n\u001b[1;31mSyntaxError\u001b[0m\u001b[1;31m:\u001b[0m invalid syntax\n"
     ]
    }
   ],
   "metadata": {}
  },
  {
   "cell_type": "code",
   "execution_count": null,
   "source": [
    "import numpy as np\r\n",
    " \r\n",
    "import matplotlib.pyplot as plt\r\n",
    " \r\n",
    "from sklearn import svm, datasets\r\n",
    "# import some data to play with\r\n",
    " \r\n",
    "iris = datasets.load_iris()\r\n",
    " \r\n",
    "X = iris.data[:,:2] # we only take the first two features. We could\r\n",
    " \r\n",
    "# avoid this ugly slicing by using a two-dim dataset\r\n",
    "\r\n",
    "y = iris.target\r\n",
    "# we create an instance of SVM and fit out data. We do not scale our\r\n",
    " \r\n",
    "# data since we want to plot the support vectors\r\n",
    "X_train, X_test, y_train, y_test = train_test_split(X, y, test_size = 0.3, random_state=12345)\r\n",
    "\r\n",
    "svc = svm.SVC(kernel='PS', gamma='auto').fit(X, y)\r\n",
    "\r\n",
    " \r\n",
    "x_min, x_max = X[:, 0].min() - 1, X[:, 0].max() + 1\r\n",
    " \r\n",
    "y_min, y_max = X[:, 1].min() - 1, X[:, 1].max() + 1\r\n",
    " \r\n",
    "h = (x_max / x_min)/100\r\n",
    " \r\n",
    "xx, yy = np.meshgrid(np.arange(x_min, x_max, h),\r\n",
    " \r\n",
    "np.arange(y_min, y_max, h))\r\n",
    "plt.subplot(1, 1, 1)\r\n",
    " \r\n",
    "Z = svc.predict(np.c_[xx.ravel(), yy.ravel()])\r\n",
    " \r\n",
    "Z = Z.reshape(xx.shape)\r\n",
    " \r\n",
    "plt.contourf(xx, yy, Z, cmap=plt.cm.Paired, alpha=0.8)\r\n",
    "\r\n",
    "plt.scatter(X[:, 0], X[:, 1], c=y, cmap=plt.cm.Paired)\r\n",
    " \r\n",
    "plt.xlabel('Sepal length')\r\n",
    " \r\n",
    "plt.ylabel('Sepal width')\r\n",
    " \r\n",
    "plt.xlim(xx.min(), xx.max())\r\n",
    " \r\n",
    "plt.title('SVC with PC kernel')\r\n",
    " \r\n",
    "plt.show()\r\n"
   ],
   "outputs": [],
   "metadata": {}
  }
 ],
 "metadata": {
  "kernelspec": {
   "display_name": "Python 3",
   "language": "python",
   "name": "python3"
  },
  "language_info": {
   "codemirror_mode": {
    "name": "ipython",
    "version": 3
   },
   "file_extension": ".py",
   "mimetype": "text/x-python",
   "name": "python",
   "nbconvert_exporter": "python",
   "pygments_lexer": "ipython3",
   "version": "3.7.0"
  }
 },
 "nbformat": 4,
 "nbformat_minor": 2
}